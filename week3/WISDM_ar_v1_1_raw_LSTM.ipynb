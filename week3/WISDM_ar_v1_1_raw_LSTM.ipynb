{
  "nbformat": 4,
  "nbformat_minor": 0,
  "metadata": {
    "colab": {
      "provenance": [],
      "gpuType": "T4",
      "mount_file_id": "1uqxIcAryAT3fSXbcXp2bkHXTMuTTsnf7",
      "authorship_tag": "ABX9TyNjowVY34Kgsj7nSakhvUi1",
      "include_colab_link": true
    },
    "kernelspec": {
      "name": "python3",
      "display_name": "Python 3"
    },
    "language_info": {
      "name": "python"
    },
    "accelerator": "GPU"
  },
  "cells": [
    {
      "cell_type": "markdown",
      "metadata": {
        "id": "view-in-github",
        "colab_type": "text"
      },
      "source": [
        "<a href=\"https://colab.research.google.com/github/jeonghoya/Machine-Learning-Programming/blob/main/week3/WISDM_ar_v1_1_raw_LSTM.ipynb\" target=\"_parent\"><img src=\"https://colab.research.google.com/assets/colab-badge.svg\" alt=\"Open In Colab\"/></a>"
      ]
    },
    {
      "cell_type": "code",
      "execution_count": 1,
      "metadata": {
        "id": "XH4x0JUm3bDA"
      },
      "outputs": [],
      "source": [
        "import pandas as pd\n",
        "import matplotlib.pyplot as plt\n",
        "import seaborn as sns\n",
        "from sklearn.model_selection import train_test_split\n",
        "from sklearn.preprocessing import LabelEncoder, StandardScaler\n",
        "from sklearn.metrics import accuracy_score, confusion_matrix, classification_report\n",
        "\n",
        "# 모델 라이브러리\n",
        "from sklearn.tree import DecisionTreeClassifier\n",
        "from sklearn.ensemble import RandomForestClassifier\n",
        "from sklearn.svm import SVC\n",
        "from sklearn.linear_model import LogisticRegression\n",
        "import warnings"
      ]
    },
    {
      "cell_type": "code",
      "source": [
        "# 1. 원본 txt 파일 로드 (세미콜론 제거 필요)\n",
        "# 파일 마지막에 붙은 세미콜론 때문에 에러가 날 수 있어, 먼저 파일을 읽고 처리합니다.\n",
        "filepath = '/content/drive/MyDrive/Colab Notebooks/WISDM_ar_v1.1_raw.txt'\n",
        "data = []\n",
        "with open(filepath, 'r') as f:\n",
        "    for line in f:\n",
        "        # 각 줄의 끝에 있는 세미콜론과 공백을 제거하고 쉼표로 분리\n",
        "        cleaned_line = line.strip().rstrip(';').split(',')\n",
        "        if len(cleaned_line) == 6: # 데이터가 6개 열로 완전한 경우에만 추가\n",
        "            data.append(cleaned_line)\n",
        "\n",
        "# 2. Pandas DataFrame으로 변환 및 컬럼명 지정\n",
        "columns = ['user', 'activity', 'timestamp', 'x-accel', 'y-accel', 'z-accel']\n",
        "df = pd.DataFrame(data, columns=columns)\n",
        "\n",
        "# 3. 데이터 타입 변환 (숫자형으로)\n",
        "df['x-accel'] = pd.to_numeric(df['x-accel'])\n",
        "df['y-accel'] = pd.to_numeric(df['y-accel'])\n",
        "df['z-accel'] = pd.to_numeric(df['z-accel'])\n",
        "\n",
        "# 4. 정제된 CSV 파일로 저장\n",
        "df.to_csv('WISDM_ar_v1.1_cleaned.csv', index=False)\n",
        "\n",
        "print(\"CSV 파일 변환 및 저장 완료!\")\n",
        "display(df.head())"
      ],
      "metadata": {
        "colab": {
          "base_uri": "https://localhost:8080/",
          "height": 224
        },
        "id": "JwfCMyUQ9Shn",
        "outputId": "910ee720-8b62-4374-c634-924c90db9dee"
      },
      "execution_count": 2,
      "outputs": [
        {
          "output_type": "stream",
          "name": "stdout",
          "text": [
            "CSV 파일 변환 및 저장 완료!\n"
          ]
        },
        {
          "output_type": "display_data",
          "data": {
            "text/plain": [
              "  user activity       timestamp   x-accel    y-accel   z-accel\n",
              "0   33  Jogging  49105962326000 -0.694638  12.680544  0.503953\n",
              "1   33  Jogging  49106062271000  5.012288  11.264028  0.953424\n",
              "2   33  Jogging  49106112167000  4.903325  10.882658 -0.081722\n",
              "3   33  Jogging  49106222305000 -0.612916  18.496431  3.023717\n",
              "4   33  Jogging  49106332290000 -1.184970  12.108489  7.205164"
            ],
            "text/html": [
              "\n",
              "  <div id=\"df-c82a95d4-5445-4475-926c-3f226c5a5576\" class=\"colab-df-container\">\n",
              "    <div>\n",
              "<style scoped>\n",
              "    .dataframe tbody tr th:only-of-type {\n",
              "        vertical-align: middle;\n",
              "    }\n",
              "\n",
              "    .dataframe tbody tr th {\n",
              "        vertical-align: top;\n",
              "    }\n",
              "\n",
              "    .dataframe thead th {\n",
              "        text-align: right;\n",
              "    }\n",
              "</style>\n",
              "<table border=\"1\" class=\"dataframe\">\n",
              "  <thead>\n",
              "    <tr style=\"text-align: right;\">\n",
              "      <th></th>\n",
              "      <th>user</th>\n",
              "      <th>activity</th>\n",
              "      <th>timestamp</th>\n",
              "      <th>x-accel</th>\n",
              "      <th>y-accel</th>\n",
              "      <th>z-accel</th>\n",
              "    </tr>\n",
              "  </thead>\n",
              "  <tbody>\n",
              "    <tr>\n",
              "      <th>0</th>\n",
              "      <td>33</td>\n",
              "      <td>Jogging</td>\n",
              "      <td>49105962326000</td>\n",
              "      <td>-0.694638</td>\n",
              "      <td>12.680544</td>\n",
              "      <td>0.503953</td>\n",
              "    </tr>\n",
              "    <tr>\n",
              "      <th>1</th>\n",
              "      <td>33</td>\n",
              "      <td>Jogging</td>\n",
              "      <td>49106062271000</td>\n",
              "      <td>5.012288</td>\n",
              "      <td>11.264028</td>\n",
              "      <td>0.953424</td>\n",
              "    </tr>\n",
              "    <tr>\n",
              "      <th>2</th>\n",
              "      <td>33</td>\n",
              "      <td>Jogging</td>\n",
              "      <td>49106112167000</td>\n",
              "      <td>4.903325</td>\n",
              "      <td>10.882658</td>\n",
              "      <td>-0.081722</td>\n",
              "    </tr>\n",
              "    <tr>\n",
              "      <th>3</th>\n",
              "      <td>33</td>\n",
              "      <td>Jogging</td>\n",
              "      <td>49106222305000</td>\n",
              "      <td>-0.612916</td>\n",
              "      <td>18.496431</td>\n",
              "      <td>3.023717</td>\n",
              "    </tr>\n",
              "    <tr>\n",
              "      <th>4</th>\n",
              "      <td>33</td>\n",
              "      <td>Jogging</td>\n",
              "      <td>49106332290000</td>\n",
              "      <td>-1.184970</td>\n",
              "      <td>12.108489</td>\n",
              "      <td>7.205164</td>\n",
              "    </tr>\n",
              "  </tbody>\n",
              "</table>\n",
              "</div>\n",
              "    <div class=\"colab-df-buttons\">\n",
              "\n",
              "  <div class=\"colab-df-container\">\n",
              "    <button class=\"colab-df-convert\" onclick=\"convertToInteractive('df-c82a95d4-5445-4475-926c-3f226c5a5576')\"\n",
              "            title=\"Convert this dataframe to an interactive table.\"\n",
              "            style=\"display:none;\">\n",
              "\n",
              "  <svg xmlns=\"http://www.w3.org/2000/svg\" height=\"24px\" viewBox=\"0 -960 960 960\">\n",
              "    <path d=\"M120-120v-720h720v720H120Zm60-500h600v-160H180v160Zm220 220h160v-160H400v160Zm0 220h160v-160H400v160ZM180-400h160v-160H180v160Zm440 0h160v-160H620v160ZM180-180h160v-160H180v160Zm440 0h160v-160H620v160Z\"/>\n",
              "  </svg>\n",
              "    </button>\n",
              "\n",
              "  <style>\n",
              "    .colab-df-container {\n",
              "      display:flex;\n",
              "      gap: 12px;\n",
              "    }\n",
              "\n",
              "    .colab-df-convert {\n",
              "      background-color: #E8F0FE;\n",
              "      border: none;\n",
              "      border-radius: 50%;\n",
              "      cursor: pointer;\n",
              "      display: none;\n",
              "      fill: #1967D2;\n",
              "      height: 32px;\n",
              "      padding: 0 0 0 0;\n",
              "      width: 32px;\n",
              "    }\n",
              "\n",
              "    .colab-df-convert:hover {\n",
              "      background-color: #E2EBFA;\n",
              "      box-shadow: 0px 1px 2px rgba(60, 64, 67, 0.3), 0px 1px 3px 1px rgba(60, 64, 67, 0.15);\n",
              "      fill: #174EA6;\n",
              "    }\n",
              "\n",
              "    .colab-df-buttons div {\n",
              "      margin-bottom: 4px;\n",
              "    }\n",
              "\n",
              "    [theme=dark] .colab-df-convert {\n",
              "      background-color: #3B4455;\n",
              "      fill: #D2E3FC;\n",
              "    }\n",
              "\n",
              "    [theme=dark] .colab-df-convert:hover {\n",
              "      background-color: #434B5C;\n",
              "      box-shadow: 0px 1px 3px 1px rgba(0, 0, 0, 0.15);\n",
              "      filter: drop-shadow(0px 1px 2px rgba(0, 0, 0, 0.3));\n",
              "      fill: #FFFFFF;\n",
              "    }\n",
              "  </style>\n",
              "\n",
              "    <script>\n",
              "      const buttonEl =\n",
              "        document.querySelector('#df-c82a95d4-5445-4475-926c-3f226c5a5576 button.colab-df-convert');\n",
              "      buttonEl.style.display =\n",
              "        google.colab.kernel.accessAllowed ? 'block' : 'none';\n",
              "\n",
              "      async function convertToInteractive(key) {\n",
              "        const element = document.querySelector('#df-c82a95d4-5445-4475-926c-3f226c5a5576');\n",
              "        const dataTable =\n",
              "          await google.colab.kernel.invokeFunction('convertToInteractive',\n",
              "                                                    [key], {});\n",
              "        if (!dataTable) return;\n",
              "\n",
              "        const docLinkHtml = 'Like what you see? Visit the ' +\n",
              "          '<a target=\"_blank\" href=https://colab.research.google.com/notebooks/data_table.ipynb>data table notebook</a>'\n",
              "          + ' to learn more about interactive tables.';\n",
              "        element.innerHTML = '';\n",
              "        dataTable['output_type'] = 'display_data';\n",
              "        await google.colab.output.renderOutput(dataTable, element);\n",
              "        const docLink = document.createElement('div');\n",
              "        docLink.innerHTML = docLinkHtml;\n",
              "        element.appendChild(docLink);\n",
              "      }\n",
              "    </script>\n",
              "  </div>\n",
              "\n",
              "\n",
              "    <div id=\"df-133f0c08-376a-468e-a9c1-0af254c4cbc5\">\n",
              "      <button class=\"colab-df-quickchart\" onclick=\"quickchart('df-133f0c08-376a-468e-a9c1-0af254c4cbc5')\"\n",
              "                title=\"Suggest charts\"\n",
              "                style=\"display:none;\">\n",
              "\n",
              "<svg xmlns=\"http://www.w3.org/2000/svg\" height=\"24px\"viewBox=\"0 0 24 24\"\n",
              "     width=\"24px\">\n",
              "    <g>\n",
              "        <path d=\"M19 3H5c-1.1 0-2 .9-2 2v14c0 1.1.9 2 2 2h14c1.1 0 2-.9 2-2V5c0-1.1-.9-2-2-2zM9 17H7v-7h2v7zm4 0h-2V7h2v10zm4 0h-2v-4h2v4z\"/>\n",
              "    </g>\n",
              "</svg>\n",
              "      </button>\n",
              "\n",
              "<style>\n",
              "  .colab-df-quickchart {\n",
              "      --bg-color: #E8F0FE;\n",
              "      --fill-color: #1967D2;\n",
              "      --hover-bg-color: #E2EBFA;\n",
              "      --hover-fill-color: #174EA6;\n",
              "      --disabled-fill-color: #AAA;\n",
              "      --disabled-bg-color: #DDD;\n",
              "  }\n",
              "\n",
              "  [theme=dark] .colab-df-quickchart {\n",
              "      --bg-color: #3B4455;\n",
              "      --fill-color: #D2E3FC;\n",
              "      --hover-bg-color: #434B5C;\n",
              "      --hover-fill-color: #FFFFFF;\n",
              "      --disabled-bg-color: #3B4455;\n",
              "      --disabled-fill-color: #666;\n",
              "  }\n",
              "\n",
              "  .colab-df-quickchart {\n",
              "    background-color: var(--bg-color);\n",
              "    border: none;\n",
              "    border-radius: 50%;\n",
              "    cursor: pointer;\n",
              "    display: none;\n",
              "    fill: var(--fill-color);\n",
              "    height: 32px;\n",
              "    padding: 0;\n",
              "    width: 32px;\n",
              "  }\n",
              "\n",
              "  .colab-df-quickchart:hover {\n",
              "    background-color: var(--hover-bg-color);\n",
              "    box-shadow: 0 1px 2px rgba(60, 64, 67, 0.3), 0 1px 3px 1px rgba(60, 64, 67, 0.15);\n",
              "    fill: var(--button-hover-fill-color);\n",
              "  }\n",
              "\n",
              "  .colab-df-quickchart-complete:disabled,\n",
              "  .colab-df-quickchart-complete:disabled:hover {\n",
              "    background-color: var(--disabled-bg-color);\n",
              "    fill: var(--disabled-fill-color);\n",
              "    box-shadow: none;\n",
              "  }\n",
              "\n",
              "  .colab-df-spinner {\n",
              "    border: 2px solid var(--fill-color);\n",
              "    border-color: transparent;\n",
              "    border-bottom-color: var(--fill-color);\n",
              "    animation:\n",
              "      spin 1s steps(1) infinite;\n",
              "  }\n",
              "\n",
              "  @keyframes spin {\n",
              "    0% {\n",
              "      border-color: transparent;\n",
              "      border-bottom-color: var(--fill-color);\n",
              "      border-left-color: var(--fill-color);\n",
              "    }\n",
              "    20% {\n",
              "      border-color: transparent;\n",
              "      border-left-color: var(--fill-color);\n",
              "      border-top-color: var(--fill-color);\n",
              "    }\n",
              "    30% {\n",
              "      border-color: transparent;\n",
              "      border-left-color: var(--fill-color);\n",
              "      border-top-color: var(--fill-color);\n",
              "      border-right-color: var(--fill-color);\n",
              "    }\n",
              "    40% {\n",
              "      border-color: transparent;\n",
              "      border-right-color: var(--fill-color);\n",
              "      border-top-color: var(--fill-color);\n",
              "    }\n",
              "    60% {\n",
              "      border-color: transparent;\n",
              "      border-right-color: var(--fill-color);\n",
              "    }\n",
              "    80% {\n",
              "      border-color: transparent;\n",
              "      border-right-color: var(--fill-color);\n",
              "      border-bottom-color: var(--fill-color);\n",
              "    }\n",
              "    90% {\n",
              "      border-color: transparent;\n",
              "      border-bottom-color: var(--fill-color);\n",
              "    }\n",
              "  }\n",
              "</style>\n",
              "\n",
              "      <script>\n",
              "        async function quickchart(key) {\n",
              "          const quickchartButtonEl =\n",
              "            document.querySelector('#' + key + ' button');\n",
              "          quickchartButtonEl.disabled = true;  // To prevent multiple clicks.\n",
              "          quickchartButtonEl.classList.add('colab-df-spinner');\n",
              "          try {\n",
              "            const charts = await google.colab.kernel.invokeFunction(\n",
              "                'suggestCharts', [key], {});\n",
              "          } catch (error) {\n",
              "            console.error('Error during call to suggestCharts:', error);\n",
              "          }\n",
              "          quickchartButtonEl.classList.remove('colab-df-spinner');\n",
              "          quickchartButtonEl.classList.add('colab-df-quickchart-complete');\n",
              "        }\n",
              "        (() => {\n",
              "          let quickchartButtonEl =\n",
              "            document.querySelector('#df-133f0c08-376a-468e-a9c1-0af254c4cbc5 button');\n",
              "          quickchartButtonEl.style.display =\n",
              "            google.colab.kernel.accessAllowed ? 'block' : 'none';\n",
              "        })();\n",
              "      </script>\n",
              "    </div>\n",
              "\n",
              "    </div>\n",
              "  </div>\n"
            ],
            "application/vnd.google.colaboratory.intrinsic+json": {
              "type": "dataframe",
              "summary": "{\n  \"name\": \"display(df\",\n  \"rows\": 5,\n  \"fields\": [\n    {\n      \"column\": \"user\",\n      \"properties\": {\n        \"dtype\": \"category\",\n        \"num_unique_values\": 1,\n        \"samples\": [\n          \"33\"\n        ],\n        \"semantic_type\": \"\",\n        \"description\": \"\"\n      }\n    },\n    {\n      \"column\": \"activity\",\n      \"properties\": {\n        \"dtype\": \"category\",\n        \"num_unique_values\": 1,\n        \"samples\": [\n          \"Jogging\"\n        ],\n        \"semantic_type\": \"\",\n        \"description\": \"\"\n      }\n    },\n    {\n      \"column\": \"timestamp\",\n      \"properties\": {\n        \"dtype\": \"string\",\n        \"num_unique_values\": 5,\n        \"samples\": [\n          \"49106062271000\"\n        ],\n        \"semantic_type\": \"\",\n        \"description\": \"\"\n      }\n    },\n    {\n      \"column\": \"x-accel\",\n      \"properties\": {\n        \"dtype\": \"number\",\n        \"std\": 3.178345389080612,\n        \"min\": -1.1849703,\n        \"max\": 5.012288,\n        \"num_unique_values\": 5,\n        \"samples\": [\n          5.012288\n        ],\n        \"semantic_type\": \"\",\n        \"description\": \"\"\n      }\n    },\n    {\n      \"column\": \"y-accel\",\n      \"properties\": {\n        \"dtype\": \"number\",\n        \"std\": 3.10511605830064,\n        \"min\": 10.882658,\n        \"max\": 18.496431,\n        \"num_unique_values\": 5,\n        \"samples\": [\n          11.264028\n        ],\n        \"semantic_type\": \"\",\n        \"description\": \"\"\n      }\n    },\n    {\n      \"column\": \"z-accel\",\n      \"properties\": {\n        \"dtype\": \"number\",\n        \"std\": 2.9704320545587466,\n        \"min\": -0.08172209,\n        \"max\": 7.205164,\n        \"num_unique_values\": 5,\n        \"samples\": [\n          0.95342433\n        ],\n        \"semantic_type\": \"\",\n        \"description\": \"\"\n      }\n    }\n  ]\n}"
            }
          },
          "metadata": {}
        }
      ]
    },
    {
      "cell_type": "code",
      "source": [
        "df.info()"
      ],
      "metadata": {
        "colab": {
          "base_uri": "https://localhost:8080/"
        },
        "id": "Dkmi_6mlECt3",
        "outputId": "88080cbc-c9ef-4be4-aa0d-d097784180fd"
      },
      "execution_count": 3,
      "outputs": [
        {
          "output_type": "stream",
          "name": "stdout",
          "text": [
            "<class 'pandas.core.frame.DataFrame'>\n",
            "RangeIndex: 1086466 entries, 0 to 1086465\n",
            "Data columns (total 6 columns):\n",
            " #   Column     Non-Null Count    Dtype  \n",
            "---  ------     --------------    -----  \n",
            " 0   user       1086466 non-null  object \n",
            " 1   activity   1086466 non-null  object \n",
            " 2   timestamp  1086466 non-null  object \n",
            " 3   x-accel    1086466 non-null  float64\n",
            " 4   y-accel    1086466 non-null  float64\n",
            " 5   z-accel    1086465 non-null  float64\n",
            "dtypes: float64(3), object(3)\n",
            "memory usage: 49.7+ MB\n"
          ]
        }
      ]
    },
    {
      "cell_type": "code",
      "source": [
        "df.isnull().sum()"
      ],
      "metadata": {
        "colab": {
          "base_uri": "https://localhost:8080/",
          "height": 272
        },
        "id": "u5kmYtxw9l8c",
        "outputId": "b03f16e2-c715-4e25-cef0-277342afa895"
      },
      "execution_count": 4,
      "outputs": [
        {
          "output_type": "execute_result",
          "data": {
            "text/plain": [
              "user         0\n",
              "activity     0\n",
              "timestamp    0\n",
              "x-accel      0\n",
              "y-accel      0\n",
              "z-accel      1\n",
              "dtype: int64"
            ],
            "text/html": [
              "<div>\n",
              "<style scoped>\n",
              "    .dataframe tbody tr th:only-of-type {\n",
              "        vertical-align: middle;\n",
              "    }\n",
              "\n",
              "    .dataframe tbody tr th {\n",
              "        vertical-align: top;\n",
              "    }\n",
              "\n",
              "    .dataframe thead th {\n",
              "        text-align: right;\n",
              "    }\n",
              "</style>\n",
              "<table border=\"1\" class=\"dataframe\">\n",
              "  <thead>\n",
              "    <tr style=\"text-align: right;\">\n",
              "      <th></th>\n",
              "      <th>0</th>\n",
              "    </tr>\n",
              "  </thead>\n",
              "  <tbody>\n",
              "    <tr>\n",
              "      <th>user</th>\n",
              "      <td>0</td>\n",
              "    </tr>\n",
              "    <tr>\n",
              "      <th>activity</th>\n",
              "      <td>0</td>\n",
              "    </tr>\n",
              "    <tr>\n",
              "      <th>timestamp</th>\n",
              "      <td>0</td>\n",
              "    </tr>\n",
              "    <tr>\n",
              "      <th>x-accel</th>\n",
              "      <td>0</td>\n",
              "    </tr>\n",
              "    <tr>\n",
              "      <th>y-accel</th>\n",
              "      <td>0</td>\n",
              "    </tr>\n",
              "    <tr>\n",
              "      <th>z-accel</th>\n",
              "      <td>1</td>\n",
              "    </tr>\n",
              "  </tbody>\n",
              "</table>\n",
              "</div><br><label><b>dtype:</b> int64</label>"
            ]
          },
          "metadata": {},
          "execution_count": 4
        }
      ]
    },
    {
      "cell_type": "code",
      "source": [
        "# z-accel에 결측치가 하나라도 있는 경우 해당 행을 제거\n",
        "if df['z-accel'].isnull().any():\n",
        "    df.dropna(inplace=True)\n",
        "    print(\"\\n✅ 결측치가 포함된 행을 제거했습니다.\")\n",
        "else:\n",
        "    print(\"\\n✅ 확인 결과, 결측치가 없습니다.\")\n",
        "\n",
        "print(\"\\n[처리 후 결측치 개수]\")\n",
        "print(df.isnull().sum())"
      ],
      "metadata": {
        "colab": {
          "base_uri": "https://localhost:8080/"
        },
        "id": "3pEqYrnf_TRK",
        "outputId": "d4f2f996-7d01-4064-bc5c-10e252896301"
      },
      "execution_count": 5,
      "outputs": [
        {
          "output_type": "stream",
          "name": "stdout",
          "text": [
            "\n",
            "✅ 결측치가 포함된 행을 제거했습니다.\n",
            "\n",
            "[처리 후 결측치 개수]\n",
            "user         0\n",
            "activity     0\n",
            "timestamp    0\n",
            "x-accel      0\n",
            "y-accel      0\n",
            "z-accel      0\n",
            "dtype: int64\n"
          ]
        }
      ]
    },
    {
      "cell_type": "code",
      "source": [
        "# 불필요한 컬럼 제거 및 결측치 처리\n",
        "df.drop(columns=['user', 'timestamp'], inplace=True, errors='ignore')"
      ],
      "metadata": {
        "id": "JSvwu9_T_d1o"
      },
      "execution_count": 6,
      "outputs": []
    },
    {
      "cell_type": "code",
      "source": [
        "# 레이블 인코딩\n",
        "le = LabelEncoder()\n",
        "df['activity_encoded'] = le.fit_transform(df['activity'])\n",
        "NUM_CLASSES = len(le.classes_)\n",
        "print(f\"\\n활동 레이블: {le.classes_}\")\n",
        "print(f\"클래스 개수: {NUM_CLASSES}\")\n",
        "\n",
        "# 피처 스케일링\n",
        "scaler = StandardScaler()\n",
        "feature_cols = ['x-accel', 'y-accel', 'z-accel']\n",
        "df[feature_cols] = scaler.fit_transform(df[feature_cols])\n",
        "print(\"✅ 데이터 전처리 완료\")"
      ],
      "metadata": {
        "colab": {
          "base_uri": "https://localhost:8080/"
        },
        "id": "bPRyUEXg_wvS",
        "outputId": "7fede662-f6fc-44c3-9ddc-5f16e38953a1"
      },
      "execution_count": 7,
      "outputs": [
        {
          "output_type": "stream",
          "name": "stdout",
          "text": [
            "\n",
            "활동 레이블: ['Downstairs' 'Jogging' 'Sitting' 'Standing' 'Upstairs' 'Walking']\n",
            "클래스 개수: 6\n",
            "✅ 데이터 전처리 완료\n"
          ]
        }
      ]
    },
    {
      "cell_type": "code",
      "source": [
        "print(\"\\n--- 레이블과 숫자 매핑 결과 ---\")\n",
        "# le.classes_ 배열의 인덱스가 곧 인코딩된 숫자입니다.\n",
        "for idx, label in enumerate(le.classes_):\n",
        "    print(f\"'{label}' -> {idx}\")"
      ],
      "metadata": {
        "colab": {
          "base_uri": "https://localhost:8080/"
        },
        "id": "udyBAN5qA48i",
        "outputId": "728fef34-55dd-40e4-fc3c-f34a0167c6c9"
      },
      "execution_count": 8,
      "outputs": [
        {
          "output_type": "stream",
          "name": "stdout",
          "text": [
            "\n",
            "--- 레이블과 숫자 매핑 결과 ---\n",
            "'Downstairs' -> 0\n",
            "'Jogging' -> 1\n",
            "'Sitting' -> 2\n",
            "'Standing' -> 3\n",
            "'Upstairs' -> 4\n",
            "'Walking' -> 5\n"
          ]
        }
      ]
    },
    {
      "cell_type": "code",
      "source": [
        "# --- 3. 범주형 데이터 분석 (activity 컬럼) ---\n",
        "print(\"\\n\\n--- 3. 활동(Activity) 데이터 분포 확인 ---\")\n",
        "activity_counts = df['activity'].value_counts()\n",
        "print(\"[각 활동별 데이터 개수]\")\n",
        "print(activity_counts)"
      ],
      "metadata": {
        "colab": {
          "base_uri": "https://localhost:8080/"
        },
        "id": "-ttQPQQCBJDY",
        "outputId": "bf217c82-eb14-427f-baf3-a76d7fa99a3e"
      },
      "execution_count": 9,
      "outputs": [
        {
          "output_type": "stream",
          "name": "stdout",
          "text": [
            "\n",
            "\n",
            "--- 3. 활동(Activity) 데이터 분포 확인 ---\n",
            "[각 활동별 데이터 개수]\n",
            "activity\n",
            "Walking       418393\n",
            "Jogging       336445\n",
            "Upstairs      122869\n",
            "Downstairs    100425\n",
            "Sitting        59939\n",
            "Standing       48394\n",
            "Name: count, dtype: int64\n"
          ]
        }
      ]
    },
    {
      "cell_type": "code",
      "source": [
        "# 활동별 데이터 개수 시각화\n",
        "plt.figure(figsize=(12, 6))\n",
        "sns.countplot(x='activity', data=df, order=activity_counts.index, palette='viridis')\n",
        "plt.title('(Activity) Distribution', fontsize=16)\n",
        "plt.xlabel('activity', fontsize=12)\n",
        "plt.ylabel('데이터 개수', fontsize=12)\n",
        "plt.xticks(rotation=45)\n",
        "plt.grid(axis='y', linestyle='--', alpha=0.7)\n",
        "plt.show()"
      ],
      "metadata": {
        "colab": {
          "base_uri": "https://localhost:8080/",
          "height": 901
        },
        "id": "bFC3RBJTBr0W",
        "outputId": "eee3e3b0-4611-4020-fab4-556a18816130"
      },
      "execution_count": 10,
      "outputs": [
        {
          "output_type": "stream",
          "name": "stderr",
          "text": [
            "/tmp/ipython-input-3992636053.py:3: FutureWarning: \n",
            "\n",
            "Passing `palette` without assigning `hue` is deprecated and will be removed in v0.14.0. Assign the `x` variable to `hue` and set `legend=False` for the same effect.\n",
            "\n",
            "  sns.countplot(x='activity', data=df, order=activity_counts.index, palette='viridis')\n",
            "/usr/local/lib/python3.12/dist-packages/IPython/core/pylabtools.py:151: UserWarning: Glyph 45936 (\\N{HANGUL SYLLABLE DE}) missing from font(s) DejaVu Sans.\n",
            "  fig.canvas.print_figure(bytes_io, **kw)\n",
            "/usr/local/lib/python3.12/dist-packages/IPython/core/pylabtools.py:151: UserWarning: Glyph 51060 (\\N{HANGUL SYLLABLE I}) missing from font(s) DejaVu Sans.\n",
            "  fig.canvas.print_figure(bytes_io, **kw)\n",
            "/usr/local/lib/python3.12/dist-packages/IPython/core/pylabtools.py:151: UserWarning: Glyph 53552 (\\N{HANGUL SYLLABLE TEO}) missing from font(s) DejaVu Sans.\n",
            "  fig.canvas.print_figure(bytes_io, **kw)\n",
            "/usr/local/lib/python3.12/dist-packages/IPython/core/pylabtools.py:151: UserWarning: Glyph 44060 (\\N{HANGUL SYLLABLE GAE}) missing from font(s) DejaVu Sans.\n",
            "  fig.canvas.print_figure(bytes_io, **kw)\n",
            "/usr/local/lib/python3.12/dist-packages/IPython/core/pylabtools.py:151: UserWarning: Glyph 49688 (\\N{HANGUL SYLLABLE SU}) missing from font(s) DejaVu Sans.\n",
            "  fig.canvas.print_figure(bytes_io, **kw)\n"
          ]
        },
        {
          "output_type": "display_data",
          "data": {
            "text/plain": [
              "<Figure size 1200x600 with 1 Axes>"
            ],
            "image/png": "[encoded data removed]"
          },
          "metadata": {}
        }
      ]
    },
    {
      "cell_type": "code",
      "source": [
        "df.drop(columns=['activity'], inplace=True, errors='ignore')\n",
        "display(df.head())"
      ],
      "metadata": {
        "colab": {
          "base_uri": "https://localhost:8080/",
          "height": 206
        },
        "id": "czvtK4hdAhAD",
        "outputId": "8bd64ca0-9081-43fb-c18f-d055113ae8e1"
      },
      "execution_count": 11,
      "outputs": [
        {
          "output_type": "display_data",
          "data": {
            "text/plain": [
              "    x-accel   y-accel   z-accel  activity_encoded\n",
              "0 -0.197600  0.806331  0.022317                 1\n",
              "1  0.632345  0.596159  0.116722                 1\n",
              "2  0.616498  0.539574 -0.100695                 1\n",
              "3 -0.185715  1.669250  0.551556                 1\n",
              "4 -0.268908  0.721454  1.429807                 1"
            ],
            "text/html": [
              "\n",
              "  <div id=\"df-251b4c65-3bff-4ddd-971a-f6356f61c847\" class=\"colab-df-container\">\n",
              "    <div>\n",
              "<style scoped>\n",
              "    .dataframe tbody tr th:only-of-type {\n",
              "        vertical-align: middle;\n",
              "    }\n",
              "\n",
              "    .dataframe tbody tr th {\n",
              "        vertical-align: top;\n",
              "    }\n",
              "\n",
              "    .dataframe thead th {\n",
              "        text-align: right;\n",
              "    }\n",
              "</style>\n",
              "<table border=\"1\" class=\"dataframe\">\n",
              "  <thead>\n",
              "    <tr style=\"text-align: right;\">\n",
              "      <th></th>\n",
              "      <th>x-accel</th>\n",
              "      <th>y-accel</th>\n",
              "      <th>z-accel</th>\n",
              "      <th>activity_encoded</th>\n",
              "    </tr>\n",
              "  </thead>\n",
              "  <tbody>\n",
              "    <tr>\n",
              "      <th>0</th>\n",
              "      <td>-0.197600</td>\n",
              "      <td>0.806331</td>\n",
              "      <td>0.022317</td>\n",
              "      <td>1</td>\n",
              "    </tr>\n",
              "    <tr>\n",
              "      <th>1</th>\n",
              "      <td>0.632345</td>\n",
              "      <td>0.596159</td>\n",
              "      <td>0.116722</td>\n",
              "      <td>1</td>\n",
              "    </tr>\n",
              "    <tr>\n",
              "      <th>2</th>\n",
              "      <td>0.616498</td>\n",
              "      <td>0.539574</td>\n",
              "      <td>-0.100695</td>\n",
              "      <td>1</td>\n",
              "    </tr>\n",
              "    <tr>\n",
              "      <th>3</th>\n",
              "      <td>-0.185715</td>\n",
              "      <td>1.669250</td>\n",
              "      <td>0.551556</td>\n",
              "      <td>1</td>\n",
              "    </tr>\n",
              "    <tr>\n",
              "      <th>4</th>\n",
              "      <td>-0.268908</td>\n",
              "      <td>0.721454</td>\n",
              "      <td>1.429807</td>\n",
              "      <td>1</td>\n",
              "    </tr>\n",
              "  </tbody>\n",
              "</table>\n",
              "</div>\n",
              "    <div class=\"colab-df-buttons\">\n",
              "\n",
              "  <div class=\"colab-df-container\">\n",
              "    <button class=\"colab-df-convert\" onclick=\"convertToInteractive('df-251b4c65-3bff-4ddd-971a-f6356f61c847')\"\n",
              "            title=\"Convert this dataframe to an interactive table.\"\n",
              "            style=\"display:none;\">\n",
              "\n",
              "  <svg xmlns=\"http://www.w3.org/2000/svg\" height=\"24px\" viewBox=\"0 -960 960 960\">\n",
              "    <path d=\"M120-120v-720h720v720H120Zm60-500h600v-160H180v160Zm220 220h160v-160H400v160Zm0 220h160v-160H400v160ZM180-400h160v-160H180v160Zm440 0h160v-160H620v160ZM180-180h160v-160H180v160Zm440 0h160v-160H620v160Z\"/>\n",
              "  </svg>\n",
              "    </button>\n",
              "\n",
              "  <style>\n",
              "    .colab-df-container {\n",
              "      display:flex;\n",
              "      gap: 12px;\n",
              "    }\n",
              "\n",
              "    .colab-df-convert {\n",
              "      background-color: #E8F0FE;\n",
              "      border: none;\n",
              "      border-radius: 50%;\n",
              "      cursor: pointer;\n",
              "      display: none;\n",
              "      fill: #1967D2;\n",
              "      height: 32px;\n",
              "      padding: 0 0 0 0;\n",
              "      width: 32px;\n",
              "    }\n",
              "\n",
              "    .colab-df-convert:hover {\n",
              "      background-color: #E2EBFA;\n",
              "      box-shadow: 0px 1px 2px rgba(60, 64, 67, 0.3), 0px 1px 3px 1px rgba(60, 64, 67, 0.15);\n",
              "      fill: #174EA6;\n",
              "    }\n",
              "\n",
              "    .colab-df-buttons div {\n",
              "      margin-bottom: 4px;\n",
              "    }\n",
              "\n",
              "    [theme=dark] .colab-df-convert {\n",
              "      background-color: #3B4455;\n",
              "      fill: #D2E3FC;\n",
              "    }\n",
              "\n",
              "    [theme=dark] .colab-df-convert:hover {\n",
              "      background-color: #434B5C;\n",
              "      box-shadow: 0px 1px 3px 1px rgba(0, 0, 0, 0.15);\n",
              "      filter: drop-shadow(0px 1px 2px rgba(0, 0, 0, 0.3));\n",
              "      fill: #FFFFFF;\n",
              "    }\n",
              "  </style>\n",
              "\n",
              "    <script>\n",
              "      const buttonEl =\n",
              "        document.querySelector('#df-251b4c65-3bff-4ddd-971a-f6356f61c847 button.colab-df-convert');\n",
              "      buttonEl.style.display =\n",
              "        google.colab.kernel.accessAllowed ? 'block' : 'none';\n",
              "\n",
              "      async function convertToInteractive(key) {\n",
              "        const element = document.querySelector('#df-251b4c65-3bff-4ddd-971a-f6356f61c847');\n",
              "        const dataTable =\n",
              "          await google.colab.kernel.invokeFunction('convertToInteractive',\n",
              "                                                    [key], {});\n",
              "        if (!dataTable) return;\n",
              "\n",
              "        const docLinkHtml = 'Like what you see? Visit the ' +\n",
              "          '<a target=\"_blank\" href=https://colab.research.google.com/notebooks/data_table.ipynb>data table notebook</a>'\n",
              "          + ' to learn more about interactive tables.';\n",
              "        element.innerHTML = '';\n",
              "        dataTable['output_type'] = 'display_data';\n",
              "        await google.colab.output.renderOutput(dataTable, element);\n",
              "        const docLink = document.createElement('div');\n",
              "        docLink.innerHTML = docLinkHtml;\n",
              "        element.appendChild(docLink);\n",
              "      }\n",
              "    </script>\n",
              "  </div>\n",
              "\n",
              "\n",
              "    <div id=\"df-1fa280c2-628b-4c4d-ae95-fdd43327dd46\">\n",
              "      <button class=\"colab-df-quickchart\" onclick=\"quickchart('df-1fa280c2-628b-4c4d-ae95-fdd43327dd46')\"\n",
              "                title=\"Suggest charts\"\n",
              "                style=\"display:none;\">\n",
              "\n",
              "<svg xmlns=\"http://www.w3.org/2000/svg\" height=\"24px\"viewBox=\"0 0 24 24\"\n",
              "     width=\"24px\">\n",
              "    <g>\n",
              "        <path d=\"M19 3H5c-1.1 0-2 .9-2 2v14c0 1.1.9 2 2 2h14c1.1 0 2-.9 2-2V5c0-1.1-.9-2-2-2zM9 17H7v-7h2v7zm4 0h-2V7h2v10zm4 0h-2v-4h2v4z\"/>\n",
              "    </g>\n",
              "</svg>\n",
              "      </button>\n",
              "\n",
              "<style>\n",
              "  .colab-df-quickchart {\n",
              "      --bg-color: #E8F0FE;\n",
              "      --fill-color: #1967D2;\n",
              "      --hover-bg-color: #E2EBFA;\n",
              "      --hover-fill-color: #174EA6;\n",
              "      --disabled-fill-color: #AAA;\n",
              "      --disabled-bg-color: #DDD;\n",
              "  }\n",
              "\n",
              "  [theme=dark] .colab-df-quickchart {\n",
              "      --bg-color: #3B4455;\n",
              "      --fill-color: #D2E3FC;\n",
              "      --hover-bg-color: #434B5C;\n",
              "      --hover-fill-color: #FFFFFF;\n",
              "      --disabled-bg-color: #3B4455;\n",
              "      --disabled-fill-color: #666;\n",
              "  }\n",
              "\n",
              "  .colab-df-quickchart {\n",
              "    background-color: var(--bg-color);\n",
              "    border: none;\n",
              "    border-radius: 50%;\n",
              "    cursor: pointer;\n",
              "    display: none;\n",
              "    fill: var(--fill-color);\n",
              "    height: 32px;\n",
              "    padding: 0;\n",
              "    width: 32px;\n",
              "  }\n",
              "\n",
              "  .colab-df-quickchart:hover {\n",
              "    background-color: var(--hover-bg-color);\n",
              "    box-shadow: 0 1px 2px rgba(60, 64, 67, 0.3), 0 1px 3px 1px rgba(60, 64, 67, 0.15);\n",
              "    fill: var(--button-hover-fill-color);\n",
              "  }\n",
              "\n",
              "  .colab-df-quickchart-complete:disabled,\n",
              "  .colab-df-quickchart-complete:disabled:hover {\n",
              "    background-color: var(--disabled-bg-color);\n",
              "    fill: var(--disabled-fill-color);\n",
              "    box-shadow: none;\n",
              "  }\n",
              "\n",
              "  .colab-df-spinner {\n",
              "    border: 2px solid var(--fill-color);\n",
              "    border-color: transparent;\n",
              "    border-bottom-color: var(--fill-color);\n",
              "    animation:\n",
              "      spin 1s steps(1) infinite;\n",
              "  }\n",
              "\n",
              "  @keyframes spin {\n",
              "    0% {\n",
              "      border-color: transparent;\n",
              "      border-bottom-color: var(--fill-color);\n",
              "      border-left-color: var(--fill-color);\n",
              "    }\n",
              "    20% {\n",
              "      border-color: transparent;\n",
              "      border-left-color: var(--fill-color);\n",
              "      border-top-color: var(--fill-color);\n",
              "    }\n",
              "    30% {\n",
              "      border-color: transparent;\n",
              "      border-left-color: var(--fill-color);\n",
              "      border-top-color: var(--fill-color);\n",
              "      border-right-color: var(--fill-color);\n",
              "    }\n",
              "    40% {\n",
              "      border-color: transparent;\n",
              "      border-right-color: var(--fill-color);\n",
              "      border-top-color: var(--fill-color);\n",
              "    }\n",
              "    60% {\n",
              "      border-color: transparent;\n",
              "      border-right-color: var(--fill-color);\n",
              "    }\n",
              "    80% {\n",
              "      border-color: transparent;\n",
              "      border-right-color: var(--fill-color);\n",
              "      border-bottom-color: var(--fill-color);\n",
              "    }\n",
              "    90% {\n",
              "      border-color: transparent;\n",
              "      border-bottom-color: var(--fill-color);\n",
              "    }\n",
              "  }\n",
              "</style>\n",
              "\n",
              "      <script>\n",
              "        async function quickchart(key) {\n",
              "          const quickchartButtonEl =\n",
              "            document.querySelector('#' + key + ' button');\n",
              "          quickchartButtonEl.disabled = true;  // To prevent multiple clicks.\n",
              "          quickchartButtonEl.classList.add('colab-df-spinner');\n",
              "          try {\n",
              "            const charts = await google.colab.kernel.invokeFunction(\n",
              "                'suggestCharts', [key], {});\n",
              "          } catch (error) {\n",
              "            console.error('Error during call to suggestCharts:', error);\n",
              "          }\n",
              "          quickchartButtonEl.classList.remove('colab-df-spinner');\n",
              "          quickchartButtonEl.classList.add('colab-df-quickchart-complete');\n",
              "        }\n",
              "        (() => {\n",
              "          let quickchartButtonEl =\n",
              "            document.querySelector('#df-1fa280c2-628b-4c4d-ae95-fdd43327dd46 button');\n",
              "          quickchartButtonEl.style.display =\n",
              "            google.colab.kernel.accessAllowed ? 'block' : 'none';\n",
              "        })();\n",
              "      </script>\n",
              "    </div>\n",
              "\n",
              "    </div>\n",
              "  </div>\n"
            ],
            "application/vnd.google.colaboratory.intrinsic+json": {
              "type": "dataframe",
              "summary": "{\n  \"name\": \"display(df\",\n  \"rows\": 5,\n  \"fields\": [\n    {\n      \"column\": \"x-accel\",\n      \"properties\": {\n        \"dtype\": \"number\",\n        \"std\": 0.4622191146909456,\n        \"min\": -0.2689077361734877,\n        \"max\": 0.6323446119124815,\n        \"num_unique_values\": 5,\n        \"samples\": [\n          0.6323446119124815,\n          -0.2689077361734877,\n          0.616498385266661\n        ],\n        \"semantic_type\": \"\",\n        \"description\": \"\"\n      }\n    },\n    {\n      \"column\": \"y-accel\",\n      \"properties\": {\n        \"dtype\": \"number\",\n        \"std\": 0.460714335624667,\n        \"min\": 0.5395739567499919,\n        \"max\": 1.6692497252015435,\n        \"num_unique_values\": 5,\n        \"samples\": [\n          0.5961588388858748,\n          0.721453765475145,\n          0.5395739567499919\n        ],\n        \"semantic_type\": \"\",\n        \"description\": \"\"\n      }\n    },\n    {\n      \"column\": \"z-accel\",\n      \"properties\": {\n        \"dtype\": \"number\",\n        \"std\": 0.6238949866004312,\n        \"min\": -0.10069492274698937,\n        \"max\": 1.4298069086287686,\n        \"num_unique_values\": 5,\n        \"samples\": [\n          0.11672215664529456,\n          1.4298069086287686,\n          -0.10069492274698937\n        ],\n        \"semantic_type\": \"\",\n        \"description\": \"\"\n      }\n    },\n    {\n      \"column\": \"activity_encoded\",\n      \"properties\": {\n        \"dtype\": \"number\",\n        \"std\": 0,\n        \"min\": 1,\n        \"max\": 1,\n        \"num_unique_values\": 1,\n        \"samples\": [\n          1\n        ],\n        \"semantic_type\": \"\",\n        \"description\": \"\"\n      }\n    }\n  ]\n}"
            }
          },
          "metadata": {}
        }
      ]
    },
    {
      "cell_type": "code",
      "source": [
        "import torch\n",
        "import torch.nn as nn\n",
        "from torch.utils.data import TensorDataset, DataLoader\n",
        "import pandas as pd\n",
        "import numpy as np\n",
        "from sklearn.model_selection import train_test_split\n",
        "from sklearn.preprocessing import StandardScaler, LabelEncoder\n",
        "from scipy import stats\n",
        "import seaborn as sns\n",
        "import matplotlib.pyplot as plt\n",
        "from sklearn.metrics import confusion_matrix, classification_report\n",
        "import warnings"
      ],
      "metadata": {
        "id": "HPezPEjNC-US"
      },
      "execution_count": 12,
      "outputs": []
    },
    {
      "cell_type": "code",
      "source": [
        "# --- 2. 슬라이딩 윈도우 생성 (CNN과 동일) ---\n",
        "print(\"\\n--- 2. 슬라이딩 윈도우 생성 시작 ---\")\n",
        "def create_segments(df, time_steps, step, label_col, feature_cols):\n",
        "    feature_values = df[feature_cols].values\n",
        "    label_values = df[label_col].values\n",
        "    num_segments = len(range(0, len(df) - time_steps, step))\n",
        "    segments = np.empty((num_segments, time_steps, len(feature_cols)))\n",
        "    labels = np.empty(num_segments, dtype=int)\n",
        "    idx = 0\n",
        "    for i in range(0, len(df) - time_steps, step):\n",
        "        segments[idx] = feature_values[i: i + time_steps]\n",
        "        label_result = stats.mode(label_values[i: i + time_steps]).mode\n",
        "        labels[idx] = np.array(label_result).flatten()[0]\n",
        "        idx += 1\n",
        "    return segments, labels\n",
        "\n",
        "Fs = 20\n",
        "TIME_STEPS = Fs * 4  # 80\n",
        "STEP_SIZE = Fs * 2   # 40"
      ],
      "metadata": {
        "colab": {
          "base_uri": "https://localhost:8080/"
        },
        "id": "cEjEACM3ARXX",
        "outputId": "7705bc16-9d9b-4cf2-9958-6f1dd5416460"
      },
      "execution_count": 13,
      "outputs": [
        {
          "output_type": "stream",
          "name": "stdout",
          "text": [
            "\n",
            "--- 2. 슬라이딩 윈도우 생성 시작 ---\n"
          ]
        }
      ]
    },
    {
      "cell_type": "code",
      "source": [
        "X, y = create_segments(df, TIME_STEPS, STEP_SIZE, 'activity_encoded', feature_cols)\n",
        "print(f\"✅ 생성된 세그먼트 형태: X={X.shape}, y={y.shape}\")"
      ],
      "metadata": {
        "colab": {
          "base_uri": "https://localhost:8080/"
        },
        "id": "wGseGTu3Cvc1",
        "outputId": "27f813a8-fd49-4522-f14c-9f6c64585f29"
      },
      "execution_count": 14,
      "outputs": [
        {
          "output_type": "stream",
          "name": "stdout",
          "text": [
            "✅ 생성된 세그먼트 형태: X=(27160, 80, 3), y=(27160,)\n"
          ]
        }
      ]
    },
    {
      "cell_type": "code",
      "source": [
        "# --- 3. 데이터 분할 및 Tensor 변환 (CNN과 동일) ---\n",
        "print(\"\\n--- 3. 데이터 분할 및 Tensor 변환 시작 ---\")\n",
        "X_train_val, X_test, y_train_val, y_test = train_test_split(X, y, test_size=0.2, random_state=42, stratify=y)\n",
        "X_train, X_val, y_train, y_val = train_test_split(X_train_val, y_train_val, test_size=0.2, random_state=42, stratify=y_train_val)\n",
        "\n",
        "X_train_tensor = torch.tensor(X_train, dtype=torch.float32)\n",
        "y_train_tensor = torch.tensor(y_train, dtype=torch.long)\n",
        "X_val_tensor = torch.tensor(X_val, dtype=torch.float32)\n",
        "y_val_tensor = torch.tensor(y_val, dtype=torch.long)\n",
        "X_test_tensor = torch.tensor(X_test, dtype=torch.float32)\n",
        "y_test_tensor = torch.tensor(y_test, dtype=torch.long)\n",
        "print(\"✅ PyTorch Tensor 변환 완료\")"
      ],
      "metadata": {
        "colab": {
          "base_uri": "https://localhost:8080/"
        },
        "id": "h8qISzPaC3t4",
        "outputId": "436c4e0c-c22d-44b1-d4be-171964f9bbe8"
      },
      "execution_count": 15,
      "outputs": [
        {
          "output_type": "stream",
          "name": "stdout",
          "text": [
            "\n",
            "--- 3. 데이터 분할 및 Tensor 변환 시작 ---\n",
            "✅ PyTorch Tensor 변환 완료\n"
          ]
        }
      ]
    },
    {
      "cell_type": "code",
      "source": [
        "# --- 4. PyTorch Dataset 및 DataLoader 생성 (CNN과 동일) ---\n",
        "BATCH_SIZE = 64\n",
        "train_dataset = TensorDataset(X_train_tensor, y_train_tensor)\n",
        "val_dataset = TensorDataset(X_val_tensor, y_val_tensor)\n",
        "test_dataset = TensorDataset(X_test_tensor, y_test_tensor)\n",
        "train_loader = DataLoader(train_dataset, batch_size=BATCH_SIZE, shuffle=True)\n",
        "val_loader = DataLoader(val_dataset, batch_size=BATCH_SIZE, shuffle=False)\n",
        "test_loader = DataLoader(test_dataset, batch_size=BATCH_SIZE, shuffle=False)\n",
        "print(\"✅ DataLoader 준비 완료 (train, validation, test)\")"
      ],
      "metadata": {
        "colab": {
          "base_uri": "https://localhost:8080/"
        },
        "id": "XH3dKC2UDL82",
        "outputId": "b2cf1031-0334-43db-f7ac-e55f4786962e"
      },
      "execution_count": 16,
      "outputs": [
        {
          "output_type": "stream",
          "name": "stdout",
          "text": [
            "✅ DataLoader 준비 완료 (train, validation, test)\n"
          ]
        }
      ]
    },
    {
      "cell_type": "code",
      "source": [
        "# --- 5. LSTM 모델 정의 (이 부분만 변경) ---\n",
        "class HAR_LSTM(nn.Module):\n",
        "    def __init__(self, input_size, hidden_size, num_layers, num_classes):\n",
        "        super(HAR_LSTM, self).__init__()\n",
        "        self.hidden_size = hidden_size\n",
        "        self.num_layers = num_layers\n",
        "        # batch_first=True -> (배치, 시퀀스, 피처) 형태의 입력을 받음\n",
        "        self.lstm = nn.LSTM(input_size, hidden_size, num_layers, batch_first=True)\n",
        "        # LSTM의 마지막 타임스텝의 출력을 분류기로 전달\n",
        "        self.fc = nn.Linear(hidden_size, num_classes)\n",
        "\n",
        "    def forward(self, x):\n",
        "        # 초기 hidden state와 cell state를 0으로 설정\n",
        "        h0 = torch.zeros(self.num_layers, x.size(0), self.hidden_size).to(x.device)\n",
        "        c0 = torch.zeros(self.num_layers, x.size(0), self.hidden_size).to(x.device)\n",
        "\n",
        "        # LSTM 순전파\n",
        "        out, _ = self.lstm(x, (h0, c0))\n",
        "\n",
        "        # 마지막 타임스텝의 출력만 사용\n",
        "        out = self.fc(out[:, -1, :])\n",
        "        return out\n",
        "\n",
        "# LSTM 하이퍼파라미터\n",
        "INPUT_SIZE = len(feature_cols) # 3\n",
        "HIDDEN_SIZE = 64\n",
        "NUM_LAYERS = 2"
      ],
      "metadata": {
        "id": "1TeT7kR-DPFM"
      },
      "execution_count": 17,
      "outputs": []
    },
    {
      "cell_type": "code",
      "source": [
        "model = HAR_LSTM(INPUT_SIZE, HIDDEN_SIZE, NUM_LAYERS, NUM_CLASSES)\n",
        "print(\"\\n--- 5. 모델 구조 ---\")\n",
        "print(model)"
      ],
      "metadata": {
        "colab": {
          "base_uri": "https://localhost:8080/"
        },
        "id": "rTvRde4SDamm",
        "outputId": "1ab8f1bc-7ec4-43c2-fe0e-ce8718b015b7"
      },
      "execution_count": 18,
      "outputs": [
        {
          "output_type": "stream",
          "name": "stdout",
          "text": [
            "\n",
            "--- 5. 모델 구조 ---\n",
            "HAR_LSTM(\n",
            "  (lstm): LSTM(3, 64, num_layers=2, batch_first=True)\n",
            "  (fc): Linear(in_features=64, out_features=6, bias=True)\n",
            ")\n"
          ]
        }
      ]
    },
    {
      "cell_type": "code",
      "source": [
        "# --- 6. 모델 훈련 및 평가 (CNN과 동일) ---\n",
        "device = torch.device(\"cuda\" if torch.cuda.is_available() else \"cpu\")\n",
        "model.to(device)\n",
        "print(f\"\\n--- 6. 모델 훈련 시작 (Device: {device}) ---\")\n",
        "\n",
        "criterion = nn.CrossEntropyLoss()\n",
        "optimizer = torch.optim.Adam(model.parameters(), lr=0.001)\n",
        "NUM_EPOCHS = 20\n",
        "\n",
        "history = {'train_loss': [], 'val_loss': [], 'train_acc': [], 'val_acc': []}\n",
        "\n",
        "for epoch in range(NUM_EPOCHS):\n",
        "    model.train()\n",
        "    running_loss, correct_train, total_train = 0.0, 0, 0\n",
        "    for segments, labels in train_loader:\n",
        "        segments, labels = segments.to(device), labels.to(device)\n",
        "        outputs = model(segments)\n",
        "        loss = criterion(outputs, labels)\n",
        "        optimizer.zero_grad()\n",
        "        loss.backward()\n",
        "        optimizer.step()\n",
        "        running_loss += loss.item()\n",
        "        _, predicted = torch.max(outputs.data, 1)\n",
        "        total_train += labels.size(0)\n",
        "        correct_train += (predicted == labels).sum().item()\n",
        "    train_loss = running_loss / len(train_loader)\n",
        "    train_acc = 100 * correct_train / total_train\n",
        "    history['train_loss'].append(train_loss)\n",
        "    history['train_acc'].append(train_acc)\n",
        "\n",
        "    model.eval()\n",
        "    running_loss, correct_val, total_val = 0.0, 0, 0\n",
        "    with torch.no_grad():\n",
        "        for segments, labels in val_loader:\n",
        "            segments, labels = segments.to(device), labels.to(device)\n",
        "            outputs = model(segments)\n",
        "            loss = criterion(outputs, labels)\n",
        "            running_loss += loss.item()\n",
        "            _, predicted = torch.max(outputs.data, 1)\n",
        "            total_val += labels.size(0)\n",
        "            correct_val += (predicted == labels).sum().item()\n",
        "    val_loss = running_loss / len(val_loader)\n",
        "    val_acc = 100 * correct_val / total_val\n",
        "    history['val_loss'].append(val_loss)\n",
        "    history['val_acc'].append(val_acc)\n",
        "\n",
        "    print(f'Epoch [{epoch+1}/{NUM_EPOCHS}], Train Loss: {train_loss:.4f}, Train Acc: {train_acc:.2f}%, Val Loss: {val_loss:.4f}, Val Acc: {val_acc:.2f}%')\n",
        "\n",
        "print(\"✅ 모델 훈련 완료\")"
      ],
      "metadata": {
        "colab": {
          "base_uri": "https://localhost:8080/"
        },
        "id": "4XwQy7-1Dh6q",
        "outputId": "3dd0abab-2237-4ead-8164-105c05869a76"
      },
      "execution_count": 19,
      "outputs": [
        {
          "output_type": "stream",
          "name": "stdout",
          "text": [
            "\n",
            "--- 6. 모델 훈련 시작 (Device: cuda) ---\n",
            "Epoch [1/20], Train Loss: 1.0802, Train Acc: 63.08%, Val Loss: 0.8353, Val Acc: 72.73%\n",
            "Epoch [2/20], Train Loss: 0.7819, Train Acc: 73.70%, Val Loss: 0.7752, Val Acc: 73.26%\n",
            "Epoch [3/20], Train Loss: 0.7825, Train Acc: 73.32%, Val Loss: 0.7496, Val Acc: 74.07%\n",
            "Epoch [4/20], Train Loss: 0.7542, Train Acc: 74.04%, Val Loss: 0.7567, Val Acc: 73.91%\n",
            "Epoch [5/20], Train Loss: 0.6697, Train Acc: 76.53%, Val Loss: 0.6010, Val Acc: 79.08%\n",
            "Epoch [6/20], Train Loss: 0.6306, Train Acc: 78.08%, Val Loss: 0.5419, Val Acc: 80.37%\n",
            "Epoch [7/20], Train Loss: 0.5350, Train Acc: 81.18%, Val Loss: 0.5053, Val Acc: 82.74%\n",
            "Epoch [8/20], Train Loss: 0.4977, Train Acc: 82.41%, Val Loss: 0.4679, Val Acc: 82.86%\n",
            "Epoch [9/20], Train Loss: 0.4459, Train Acc: 84.06%, Val Loss: 0.4124, Val Acc: 86.08%\n",
            "Epoch [10/20], Train Loss: 0.3987, Train Acc: 85.88%, Val Loss: 0.3851, Val Acc: 86.75%\n",
            "Epoch [11/20], Train Loss: 0.3263, Train Acc: 88.84%, Val Loss: 0.2767, Val Acc: 90.75%\n",
            "Epoch [12/20], Train Loss: 0.2703, Train Acc: 90.98%, Val Loss: 0.2583, Val Acc: 91.79%\n",
            "Epoch [13/20], Train Loss: 0.2175, Train Acc: 92.67%, Val Loss: 0.2106, Val Acc: 93.30%\n",
            "Epoch [14/20], Train Loss: 0.1936, Train Acc: 93.68%, Val Loss: 0.1887, Val Acc: 93.90%\n",
            "Epoch [15/20], Train Loss: 0.1661, Train Acc: 94.60%, Val Loss: 0.1750, Val Acc: 94.57%\n",
            "Epoch [16/20], Train Loss: 0.1541, Train Acc: 95.13%, Val Loss: 0.1706, Val Acc: 94.55%\n",
            "Epoch [17/20], Train Loss: 0.1508, Train Acc: 95.22%, Val Loss: 0.1627, Val Acc: 94.78%\n",
            "Epoch [18/20], Train Loss: 0.1407, Train Acc: 95.45%, Val Loss: 0.1432, Val Acc: 95.14%\n",
            "Epoch [19/20], Train Loss: 0.1195, Train Acc: 96.17%, Val Loss: 0.1333, Val Acc: 95.56%\n",
            "Epoch [20/20], Train Loss: 0.1131, Train Acc: 96.25%, Val Loss: 0.1261, Val Acc: 96.07%\n",
            "✅ 모델 훈련 완료\n"
          ]
        }
      ]
    },
    {
      "cell_type": "code",
      "source": [
        "# --- 7. 최종 테스트 데이터 평가 (CNN과 동일) ---\n",
        "print(\"\\n--- 7. 최종 모델 평가 시작 ---\")\n",
        "model.eval()\n",
        "all_preds, all_labels = [], []\n",
        "with torch.no_grad():\n",
        "    correct, total = 0, 0\n",
        "    for segments, labels in test_loader:\n",
        "        segments, labels = segments.to(device), labels.to(device)\n",
        "        outputs = model(segments)\n",
        "        _, predicted = torch.max(outputs.data, 1)\n",
        "        total += labels.size(0)\n",
        "        correct += (predicted == labels).sum().item()\n",
        "        all_preds.extend(predicted.cpu().numpy())\n",
        "        all_labels.extend(labels.cpu().numpy())\n",
        "accuracy = 100 * correct / total\n",
        "print(f'✅ 최종 테스트 데이터 정확도: {accuracy:.2f} %')"
      ],
      "metadata": {
        "colab": {
          "base_uri": "https://localhost:8080/"
        },
        "id": "I5zRW9XqDre1",
        "outputId": "9c9d6e9b-b395-45e9-a79f-a518182d5289"
      },
      "execution_count": 20,
      "outputs": [
        {
          "output_type": "stream",
          "name": "stdout",
          "text": [
            "\n",
            "--- 7. 최종 모델 평가 시작 ---\n",
            "✅ 최종 테스트 데이터 정확도: 96.32 %\n"
          ]
        }
      ]
    },
    {
      "cell_type": "code",
      "source": [
        "# --- 8. Classification Report (CNN과 동일) ---\n",
        "print(\"\\n--- 8. Classification Report ---\")\n",
        "print(classification_report(all_labels, all_preds, target_names=le.classes_))"
      ],
      "metadata": {
        "colab": {
          "base_uri": "https://localhost:8080/"
        },
        "id": "_ZSsCNNhEoWs",
        "outputId": "4cf33bf7-deb4-4305-b668-30895b78125c"
      },
      "execution_count": 21,
      "outputs": [
        {
          "output_type": "stream",
          "name": "stdout",
          "text": [
            "\n",
            "--- 8. Classification Report ---\n",
            "              precision    recall  f1-score   support\n",
            "\n",
            "  Downstairs       0.91      0.87      0.89       503\n",
            "     Jogging       0.99      0.98      0.98      1682\n",
            "     Sitting       0.99      0.94      0.96       299\n",
            "    Standing       0.93      1.00      0.96       242\n",
            "    Upstairs       0.89      0.90      0.90       614\n",
            "     Walking       0.98      0.99      0.98      2092\n",
            "\n",
            "    accuracy                           0.96      5432\n",
            "   macro avg       0.95      0.95      0.95      5432\n",
            "weighted avg       0.96      0.96      0.96      5432\n",
            "\n"
          ]
        }
      ]
    },
    {
      "cell_type": "code",
      "source": [
        "# --- 9. 훈련 과정 시각화 (CNN과 동일) ---\n",
        "print(\"\\n--- 9. 훈련 과정 시각화 ---\")\n",
        "plt.style.use('seaborn-v0_8-whitegrid')\n",
        "fig, (ax1, ax2) = plt.subplots(1, 2, figsize=(16, 6))\n",
        "ax1.plot(history['train_loss'], label='Train Loss', color='royalblue', marker='o', markersize=3)\n",
        "ax1.plot(history['val_loss'], label='Validation Loss', color='darkorange', marker='o', markersize=3)\n",
        "ax1.set_title('Training and Validation Loss', fontsize=16)\n",
        "ax1.set_xlabel('Epochs', fontsize=12)\n",
        "ax1.set_ylabel('Loss', fontsize=12)\n",
        "ax1.legend()\n",
        "ax2.plot(history['train_acc'], label='Train Accuracy', color='royalblue', marker='o', markersize=3)\n",
        "ax2.plot(history['val_acc'], label='Validation Accuracy', color='darkorange', marker='o', markersize=3)\n",
        "ax2.set_title('Training and Validation Accuracy', fontsize=16)\n",
        "ax2.set_xlabel('Epochs', fontsize=12)\n",
        "ax2.set_ylabel('Accuracy (%)', fontsize=12)\n",
        "ax2.legend()\n",
        "plt.tight_layout()\n",
        "plt.show()\n"
      ],
      "metadata": {
        "colab": {
          "base_uri": "https://localhost:8080/",
          "height": 517
        },
        "id": "rJ_XkTlDErO7",
        "outputId": "d2660856-7d94-4e72-8901-c9783c6c23ce"
      },
      "execution_count": 22,
      "outputs": [
        {
          "output_type": "stream",
          "name": "stdout",
          "text": [
            "\n",
            "--- 9. 훈련 과정 시각화 ---\n"
          ]
        },
        {
          "output_type": "display_data",
          "data": {
            "text/plain": [
              "<Figure size 1600x600 with 2 Axes>"
            ],
            "image/png": "[encoded data removed]"
          },
          "metadata": {}
        }
      ]
    },
    {
      "cell_type": "code",
      "source": [
        "# --- 10. 결과 분석 (Confusion Matrix, CNN과 동일) ---\n",
        "print(\"\\n--- 10. 결과 분석 (Confusion Matrix on Test Data) ---\")\n",
        "cm = confusion_matrix(all_labels, all_preds)\n",
        "plt.figure(figsize=(10, 8))\n",
        "sns.heatmap(cm, annot=True, fmt='d', cmap='Blues', xticklabels=le.classes_, yticklabels=le.classes_)\n",
        "plt.title('Confusion Matrix', fontsize=16)\n",
        "plt.xlabel('Predicted Label', fontsize=12)\n",
        "plt.ylabel('True Label', fontsize=12)\n",
        "plt.show()"
      ],
      "metadata": {
        "colab": {
          "base_uri": "https://localhost:8080/",
          "height": 753
        },
        "id": "J_NbejUmEvBr",
        "outputId": "c7419f69-3ff1-4f7c-a629-2ee951b7142e"
      },
      "execution_count": 23,
      "outputs": [
        {
          "output_type": "stream",
          "name": "stdout",
          "text": [
            "\n",
            "--- 10. 결과 분석 (Confusion Matrix on Test Data) ---\n"
          ]
        },
        {
          "output_type": "display_data",
          "data": {
            "text/plain": [
              "<Figure size 1000x800 with 2 Axes>"
            ],
            "image/png": "[encoded data removed]"
          },
          "metadata": {}
        }
      ]
    },
    {
      "cell_type": "code",
      "source": [],
      "metadata": {
        "id": "TIU1VMUTE1xq"
      },
      "execution_count": null,
      "outputs": []
    }
  ]
}